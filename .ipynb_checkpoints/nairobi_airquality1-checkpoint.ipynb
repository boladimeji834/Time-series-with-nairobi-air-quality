{
 "cells": [
  {
   "cell_type": "code",
   "execution_count": 15,
   "id": "497aefb9-5887-4425-bef6-9a781c2c9e52",
   "metadata": {},
   "outputs": [],
   "source": [
    "import pandas as pd \n",
    "import matplotlib.pyplot as plt \n",
    "import plotly.express as px \n",
    "import numpy as np \n",
    "import seaborn as sns\n",
    "\n",
    "from sklearn.linear_model import LinearRegression\n",
    "from sklearn.metrics import mean_absolute_error\n",
    "from sklearn.model_selection import train_test_split\n",
    "from sklearn.preprocessing import OneHotEncoder \n",
    "from sklearn.impute import SimpleImputer\n",
    "from sklearn.linear_model import Ridge \n",
    "from sklearn.pipeline import make_pipeline\n",
    "from sklearn.preprocessing import MaxAbsScaler \n",
    "from sklearn.decomposition import TruncatedSVD\n",
    "from sklearn.model_selection import cross_val_score\n",
    "from sklearn.metrics import accuracy_score"
   ]
  },
  {
   "cell_type": "code",
   "execution_count": 8,
   "id": "59ce61a3-767d-4393-ae96-245f186ba28a",
   "metadata": {},
   "outputs": [
    {
     "data": {
      "text/html": [
       "<div>\n",
       "<style scoped>\n",
       "    .dataframe tbody tr th:only-of-type {\n",
       "        vertical-align: middle;\n",
       "    }\n",
       "\n",
       "    .dataframe tbody tr th {\n",
       "        vertical-align: top;\n",
       "    }\n",
       "\n",
       "    .dataframe thead th {\n",
       "        text-align: right;\n",
       "    }\n",
       "</style>\n",
       "<table border=\"1\" class=\"dataframe\">\n",
       "  <thead>\n",
       "    <tr style=\"text-align: right;\">\n",
       "      <th></th>\n",
       "      <th>sensor_id;sensor_type;location;lat;lon;timestamp;value_type;value</th>\n",
       "    </tr>\n",
       "  </thead>\n",
       "  <tbody>\n",
       "    <tr>\n",
       "      <th>0</th>\n",
       "      <td>40;SDS011;7;-1.298;36.791;2018-04-01T00:02:07....</td>\n",
       "    </tr>\n",
       "    <tr>\n",
       "      <th>1</th>\n",
       "      <td>40;SDS011;7;-1.298;36.791;2018-04-01T00:02:07....</td>\n",
       "    </tr>\n",
       "    <tr>\n",
       "      <th>2</th>\n",
       "      <td>40;SDS011;7;-1.298;36.791;2018-04-01T00:02:07....</td>\n",
       "    </tr>\n",
       "    <tr>\n",
       "      <th>3</th>\n",
       "      <td>40;SDS011;7;-1.298;36.791;2018-04-01T00:02:07....</td>\n",
       "    </tr>\n",
       "    <tr>\n",
       "      <th>4</th>\n",
       "      <td>43;SDS011;20;-1.253;36.854;2018-04-01T00:03:56...</td>\n",
       "    </tr>\n",
       "    <tr>\n",
       "      <th>...</th>\n",
       "      <td>...</td>\n",
       "    </tr>\n",
       "    <tr>\n",
       "      <th>165151</th>\n",
       "      <td>43;SDS011;20;-1.253;36.854;2018-04-30T23:56:39...</td>\n",
       "    </tr>\n",
       "    <tr>\n",
       "      <th>165152</th>\n",
       "      <td>40;SDS011;7;-1.298;36.791;2018-04-30T23:57:58....</td>\n",
       "    </tr>\n",
       "    <tr>\n",
       "      <th>165153</th>\n",
       "      <td>40;SDS011;7;-1.298;36.791;2018-04-30T23:57:58....</td>\n",
       "    </tr>\n",
       "    <tr>\n",
       "      <th>165154</th>\n",
       "      <td>40;SDS011;7;-1.298;36.791;2018-04-30T23:57:59....</td>\n",
       "    </tr>\n",
       "    <tr>\n",
       "      <th>165155</th>\n",
       "      <td>40;SDS011;7;-1.298;36.791;2018-04-30T23:57:59....</td>\n",
       "    </tr>\n",
       "  </tbody>\n",
       "</table>\n",
       "<p>165156 rows × 1 columns</p>\n",
       "</div>"
      ],
      "text/plain": [
       "       sensor_id;sensor_type;location;lat;lon;timestamp;value_type;value\n",
       "0       40;SDS011;7;-1.298;36.791;2018-04-01T00:02:07....               \n",
       "1       40;SDS011;7;-1.298;36.791;2018-04-01T00:02:07....               \n",
       "2       40;SDS011;7;-1.298;36.791;2018-04-01T00:02:07....               \n",
       "3       40;SDS011;7;-1.298;36.791;2018-04-01T00:02:07....               \n",
       "4       43;SDS011;20;-1.253;36.854;2018-04-01T00:03:56...               \n",
       "...                                                   ...               \n",
       "165151  43;SDS011;20;-1.253;36.854;2018-04-30T23:56:39...               \n",
       "165152  40;SDS011;7;-1.298;36.791;2018-04-30T23:57:58....               \n",
       "165153  40;SDS011;7;-1.298;36.791;2018-04-30T23:57:58....               \n",
       "165154  40;SDS011;7;-1.298;36.791;2018-04-30T23:57:59....               \n",
       "165155  40;SDS011;7;-1.298;36.791;2018-04-30T23:57:59....               \n",
       "\n",
       "[165156 rows x 1 columns]"
      ]
     },
     "execution_count": 8,
     "metadata": {},
     "output_type": "execute_result"
    }
   ],
   "source": [
    "df = pd.read_csv(\"april_2018_sensor_data_archive.csv\")\n",
    "df"
   ]
  },
  {
   "cell_type": "code",
   "execution_count": 3,
   "id": "2143d12e-e21f-496f-ae02-075603353b3e",
   "metadata": {},
   "outputs": [],
   "source": [
    "new_cols = df.columns.str.split(\";\")"
   ]
  },
  {
   "cell_type": "code",
   "execution_count": 4,
   "id": "fb2c2a50-92b5-415e-b535-b0ebe11519c6",
   "metadata": {},
   "outputs": [],
   "source": [
    "new_vals = df[\"sensor_id;sensor_type;location;lat;lon;timestamp;value_type;value\"].str.split(\";\", expand=True)"
   ]
  },
  {
   "cell_type": "code",
   "execution_count": 5,
   "id": "ea637109-e25d-4067-98cd-dd8b6fbc1985",
   "metadata": {},
   "outputs": [
    {
     "data": {
      "text/plain": [
       "((165156, 8), 1)"
      ]
     },
     "execution_count": 5,
     "metadata": {},
     "output_type": "execute_result"
    }
   ],
   "source": [
    "new_vals.shape, len(new_cols)"
   ]
  },
  {
   "cell_type": "code",
   "execution_count": 9,
   "id": "79437ba4-ec55-472e-a163-1cd6b71b019f",
   "metadata": {},
   "outputs": [
    {
     "data": {
      "text/plain": [
       "Index([['sensor_id', 'sensor_type', 'location', 'lat', 'lon', 'timestamp', 'value_type', 'value']], dtype='object')"
      ]
     },
     "execution_count": 9,
     "metadata": {},
     "output_type": "execute_result"
    }
   ],
   "source": [
    "new_cols"
   ]
  },
  {
   "cell_type": "code",
   "execution_count": 11,
   "id": "02c8864e-370e-41b6-bd81-776e97dd85b5",
   "metadata": {},
   "outputs": [],
   "source": [
    "df[['sensor_id', 'sensor_type', 'location',\\\n",
    "    'lat', 'lon', 'timestamp', 'value_type', 'value']] = new_vals"
   ]
  },
  {
   "cell_type": "code",
   "execution_count": null,
   "id": "6e12a4f4-58ed-4963-a338-9b2681062454",
   "metadata": {},
   "outputs": [],
   "source": []
  },
  {
   "cell_type": "code",
   "execution_count": 13,
   "id": "6fc76e13-6ede-43b7-ab64-7d2071ac4802",
   "metadata": {},
   "outputs": [],
   "source": [
    "df = df.drop(columns='sensor_id;sensor_type;location;lat;lon;timestamp;value_type;value')"
   ]
  },
  {
   "cell_type": "code",
   "execution_count": 14,
   "id": "4c5ad524-5cf4-44a0-a867-65edd67a96de",
   "metadata": {},
   "outputs": [
    {
     "data": {
      "text/html": [
       "<div>\n",
       "<style scoped>\n",
       "    .dataframe tbody tr th:only-of-type {\n",
       "        vertical-align: middle;\n",
       "    }\n",
       "\n",
       "    .dataframe tbody tr th {\n",
       "        vertical-align: top;\n",
       "    }\n",
       "\n",
       "    .dataframe thead th {\n",
       "        text-align: right;\n",
       "    }\n",
       "</style>\n",
       "<table border=\"1\" class=\"dataframe\">\n",
       "  <thead>\n",
       "    <tr style=\"text-align: right;\">\n",
       "      <th></th>\n",
       "      <th>sensor_id</th>\n",
       "      <th>sensor_type</th>\n",
       "      <th>location</th>\n",
       "      <th>lat</th>\n",
       "      <th>lon</th>\n",
       "      <th>timestamp</th>\n",
       "      <th>value_type</th>\n",
       "      <th>value</th>\n",
       "    </tr>\n",
       "  </thead>\n",
       "  <tbody>\n",
       "    <tr>\n",
       "      <th>0</th>\n",
       "      <td>40</td>\n",
       "      <td>SDS011</td>\n",
       "      <td>7</td>\n",
       "      <td>-1.298</td>\n",
       "      <td>36.791</td>\n",
       "      <td>2018-04-01T00:02:07.071983+00:00</td>\n",
       "      <td>humidity</td>\n",
       "      <td>65.80</td>\n",
       "    </tr>\n",
       "    <tr>\n",
       "      <th>1</th>\n",
       "      <td>40</td>\n",
       "      <td>SDS011</td>\n",
       "      <td>7</td>\n",
       "      <td>-1.298</td>\n",
       "      <td>36.791</td>\n",
       "      <td>2018-04-01T00:02:07.071983+00:00</td>\n",
       "      <td>temperature</td>\n",
       "      <td>21.10</td>\n",
       "    </tr>\n",
       "    <tr>\n",
       "      <th>2</th>\n",
       "      <td>40</td>\n",
       "      <td>SDS011</td>\n",
       "      <td>7</td>\n",
       "      <td>-1.298</td>\n",
       "      <td>36.791</td>\n",
       "      <td>2018-04-01T00:02:07.111462+00:00</td>\n",
       "      <td>P2</td>\n",
       "      <td>4.40</td>\n",
       "    </tr>\n",
       "    <tr>\n",
       "      <th>3</th>\n",
       "      <td>40</td>\n",
       "      <td>SDS011</td>\n",
       "      <td>7</td>\n",
       "      <td>-1.298</td>\n",
       "      <td>36.791</td>\n",
       "      <td>2018-04-01T00:02:07.111462+00:00</td>\n",
       "      <td>P1</td>\n",
       "      <td>7.80</td>\n",
       "    </tr>\n",
       "    <tr>\n",
       "      <th>4</th>\n",
       "      <td>43</td>\n",
       "      <td>SDS011</td>\n",
       "      <td>20</td>\n",
       "      <td>-1.253</td>\n",
       "      <td>36.854</td>\n",
       "      <td>2018-04-01T00:03:56.860816+00:00</td>\n",
       "      <td>humidity</td>\n",
       "      <td>76.30</td>\n",
       "    </tr>\n",
       "    <tr>\n",
       "      <th>...</th>\n",
       "      <td>...</td>\n",
       "      <td>...</td>\n",
       "      <td>...</td>\n",
       "      <td>...</td>\n",
       "      <td>...</td>\n",
       "      <td>...</td>\n",
       "      <td>...</td>\n",
       "      <td>...</td>\n",
       "    </tr>\n",
       "    <tr>\n",
       "      <th>165151</th>\n",
       "      <td>43</td>\n",
       "      <td>SDS011</td>\n",
       "      <td>20</td>\n",
       "      <td>-1.253</td>\n",
       "      <td>36.854</td>\n",
       "      <td>2018-04-30T23:56:39.987277+00:00</td>\n",
       "      <td>temperature</td>\n",
       "      <td>20.10</td>\n",
       "    </tr>\n",
       "    <tr>\n",
       "      <th>165152</th>\n",
       "      <td>40</td>\n",
       "      <td>SDS011</td>\n",
       "      <td>7</td>\n",
       "      <td>-1.298</td>\n",
       "      <td>36.791</td>\n",
       "      <td>2018-04-30T23:57:58.207062+00:00</td>\n",
       "      <td>P2</td>\n",
       "      <td>1.50</td>\n",
       "    </tr>\n",
       "    <tr>\n",
       "      <th>165153</th>\n",
       "      <td>40</td>\n",
       "      <td>SDS011</td>\n",
       "      <td>7</td>\n",
       "      <td>-1.298</td>\n",
       "      <td>36.791</td>\n",
       "      <td>2018-04-30T23:57:58.207062+00:00</td>\n",
       "      <td>P1</td>\n",
       "      <td>2.43</td>\n",
       "    </tr>\n",
       "    <tr>\n",
       "      <th>165154</th>\n",
       "      <td>40</td>\n",
       "      <td>SDS011</td>\n",
       "      <td>7</td>\n",
       "      <td>-1.298</td>\n",
       "      <td>36.791</td>\n",
       "      <td>2018-04-30T23:57:59.647288+00:00</td>\n",
       "      <td>humidity</td>\n",
       "      <td>73.20</td>\n",
       "    </tr>\n",
       "    <tr>\n",
       "      <th>165155</th>\n",
       "      <td>40</td>\n",
       "      <td>SDS011</td>\n",
       "      <td>7</td>\n",
       "      <td>-1.298</td>\n",
       "      <td>36.791</td>\n",
       "      <td>2018-04-30T23:57:59.647288+00:00</td>\n",
       "      <td>temperature</td>\n",
       "      <td>19.80</td>\n",
       "    </tr>\n",
       "  </tbody>\n",
       "</table>\n",
       "<p>165156 rows × 8 columns</p>\n",
       "</div>"
      ],
      "text/plain": [
       "       sensor_id sensor_type location     lat     lon  \\\n",
       "0             40      SDS011        7  -1.298  36.791   \n",
       "1             40      SDS011        7  -1.298  36.791   \n",
       "2             40      SDS011        7  -1.298  36.791   \n",
       "3             40      SDS011        7  -1.298  36.791   \n",
       "4             43      SDS011       20  -1.253  36.854   \n",
       "...          ...         ...      ...     ...     ...   \n",
       "165151        43      SDS011       20  -1.253  36.854   \n",
       "165152        40      SDS011        7  -1.298  36.791   \n",
       "165153        40      SDS011        7  -1.298  36.791   \n",
       "165154        40      SDS011        7  -1.298  36.791   \n",
       "165155        40      SDS011        7  -1.298  36.791   \n",
       "\n",
       "                               timestamp   value_type  value  \n",
       "0       2018-04-01T00:02:07.071983+00:00     humidity  65.80  \n",
       "1       2018-04-01T00:02:07.071983+00:00  temperature  21.10  \n",
       "2       2018-04-01T00:02:07.111462+00:00           P2   4.40  \n",
       "3       2018-04-01T00:02:07.111462+00:00           P1   7.80  \n",
       "4       2018-04-01T00:03:56.860816+00:00     humidity  76.30  \n",
       "...                                  ...          ...    ...  \n",
       "165151  2018-04-30T23:56:39.987277+00:00  temperature  20.10  \n",
       "165152  2018-04-30T23:57:58.207062+00:00           P2   1.50  \n",
       "165153  2018-04-30T23:57:58.207062+00:00           P1   2.43  \n",
       "165154  2018-04-30T23:57:59.647288+00:00     humidity  73.20  \n",
       "165155  2018-04-30T23:57:59.647288+00:00  temperature  19.80  \n",
       "\n",
       "[165156 rows x 8 columns]"
      ]
     },
     "execution_count": 14,
     "metadata": {},
     "output_type": "execute_result"
    }
   ],
   "source": [
    "df"
   ]
  },
  {
   "cell_type": "code",
   "execution_count": 25,
   "id": "9a79bf01-1b6f-45d8-bf73-a8e3325bd3d6",
   "metadata": {},
   "outputs": [
    {
     "data": {
      "text/html": [
       "<div>\n",
       "<style scoped>\n",
       "    .dataframe tbody tr th:only-of-type {\n",
       "        vertical-align: middle;\n",
       "    }\n",
       "\n",
       "    .dataframe tbody tr th {\n",
       "        vertical-align: top;\n",
       "    }\n",
       "\n",
       "    .dataframe thead th {\n",
       "        text-align: right;\n",
       "    }\n",
       "</style>\n",
       "<table border=\"1\" class=\"dataframe\">\n",
       "  <thead>\n",
       "    <tr style=\"text-align: right;\">\n",
       "      <th></th>\n",
       "      <th>sensor_id</th>\n",
       "      <th>sensor_type</th>\n",
       "      <th>location</th>\n",
       "      <th>lat</th>\n",
       "      <th>lon</th>\n",
       "      <th>timestamp</th>\n",
       "      <th>value_type</th>\n",
       "      <th>value</th>\n",
       "    </tr>\n",
       "  </thead>\n",
       "  <tbody>\n",
       "    <tr>\n",
       "      <th>2</th>\n",
       "      <td>40.0</td>\n",
       "      <td>SDS011</td>\n",
       "      <td>7.0</td>\n",
       "      <td>-1.298</td>\n",
       "      <td>36.791</td>\n",
       "      <td>2018-04-01T00:02:07.111462+00:00</td>\n",
       "      <td>P2</td>\n",
       "      <td>4.40</td>\n",
       "    </tr>\n",
       "    <tr>\n",
       "      <th>6</th>\n",
       "      <td>40.0</td>\n",
       "      <td>SDS011</td>\n",
       "      <td>7.0</td>\n",
       "      <td>-1.298</td>\n",
       "      <td>36.791</td>\n",
       "      <td>2018-04-01T00:04:36.364175+00:00</td>\n",
       "      <td>P2</td>\n",
       "      <td>4.43</td>\n",
       "    </tr>\n",
       "    <tr>\n",
       "      <th>8</th>\n",
       "      <td>40.0</td>\n",
       "      <td>SDS011</td>\n",
       "      <td>7.0</td>\n",
       "      <td>-1.298</td>\n",
       "      <td>36.791</td>\n",
       "      <td>2018-04-01T00:07:18.801040+00:00</td>\n",
       "      <td>P2</td>\n",
       "      <td>4.50</td>\n",
       "    </tr>\n",
       "    <tr>\n",
       "      <th>12</th>\n",
       "      <td>40.0</td>\n",
       "      <td>SDS011</td>\n",
       "      <td>7.0</td>\n",
       "      <td>-1.298</td>\n",
       "      <td>36.791</td>\n",
       "      <td>2018-04-01T00:09:55.795526+00:00</td>\n",
       "      <td>P2</td>\n",
       "      <td>4.87</td>\n",
       "    </tr>\n",
       "    <tr>\n",
       "      <th>18</th>\n",
       "      <td>40.0</td>\n",
       "      <td>SDS011</td>\n",
       "      <td>7.0</td>\n",
       "      <td>-1.298</td>\n",
       "      <td>36.791</td>\n",
       "      <td>2018-04-01T00:12:25.801304+00:00</td>\n",
       "      <td>P2</td>\n",
       "      <td>4.10</td>\n",
       "    </tr>\n",
       "    <tr>\n",
       "      <th>...</th>\n",
       "      <td>...</td>\n",
       "      <td>...</td>\n",
       "      <td>...</td>\n",
       "      <td>...</td>\n",
       "      <td>...</td>\n",
       "      <td>...</td>\n",
       "      <td>...</td>\n",
       "      <td>...</td>\n",
       "    </tr>\n",
       "    <tr>\n",
       "      <th>165132</th>\n",
       "      <td>40.0</td>\n",
       "      <td>SDS011</td>\n",
       "      <td>7.0</td>\n",
       "      <td>-1.298</td>\n",
       "      <td>36.791</td>\n",
       "      <td>2018-04-30T23:47:51.800680+00:00</td>\n",
       "      <td>P2</td>\n",
       "      <td>1.37</td>\n",
       "    </tr>\n",
       "    <tr>\n",
       "      <th>165136</th>\n",
       "      <td>40.0</td>\n",
       "      <td>SDS011</td>\n",
       "      <td>7.0</td>\n",
       "      <td>-1.298</td>\n",
       "      <td>36.791</td>\n",
       "      <td>2018-04-30T23:50:23.449791+00:00</td>\n",
       "      <td>P2</td>\n",
       "      <td>1.63</td>\n",
       "    </tr>\n",
       "    <tr>\n",
       "      <th>165142</th>\n",
       "      <td>40.0</td>\n",
       "      <td>SDS011</td>\n",
       "      <td>7.0</td>\n",
       "      <td>-1.298</td>\n",
       "      <td>36.791</td>\n",
       "      <td>2018-04-30T23:52:54.771506+00:00</td>\n",
       "      <td>P2</td>\n",
       "      <td>1.23</td>\n",
       "    </tr>\n",
       "    <tr>\n",
       "      <th>165146</th>\n",
       "      <td>40.0</td>\n",
       "      <td>SDS011</td>\n",
       "      <td>7.0</td>\n",
       "      <td>-1.298</td>\n",
       "      <td>36.791</td>\n",
       "      <td>2018-04-30T23:55:26.035408+00:00</td>\n",
       "      <td>P2</td>\n",
       "      <td>1.50</td>\n",
       "    </tr>\n",
       "    <tr>\n",
       "      <th>165152</th>\n",
       "      <td>40.0</td>\n",
       "      <td>SDS011</td>\n",
       "      <td>7.0</td>\n",
       "      <td>-1.298</td>\n",
       "      <td>36.791</td>\n",
       "      <td>2018-04-30T23:57:58.207062+00:00</td>\n",
       "      <td>P2</td>\n",
       "      <td>1.50</td>\n",
       "    </tr>\n",
       "  </tbody>\n",
       "</table>\n",
       "<p>40743 rows × 8 columns</p>\n",
       "</div>"
      ],
      "text/plain": [
       "        sensor_id sensor_type  location    lat     lon  \\\n",
       "2            40.0      SDS011       7.0 -1.298  36.791   \n",
       "6            40.0      SDS011       7.0 -1.298  36.791   \n",
       "8            40.0      SDS011       7.0 -1.298  36.791   \n",
       "12           40.0      SDS011       7.0 -1.298  36.791   \n",
       "18           40.0      SDS011       7.0 -1.298  36.791   \n",
       "...           ...         ...       ...    ...     ...   \n",
       "165132       40.0      SDS011       7.0 -1.298  36.791   \n",
       "165136       40.0      SDS011       7.0 -1.298  36.791   \n",
       "165142       40.0      SDS011       7.0 -1.298  36.791   \n",
       "165146       40.0      SDS011       7.0 -1.298  36.791   \n",
       "165152       40.0      SDS011       7.0 -1.298  36.791   \n",
       "\n",
       "                               timestamp value_type  value  \n",
       "2       2018-04-01T00:02:07.111462+00:00         P2   4.40  \n",
       "6       2018-04-01T00:04:36.364175+00:00         P2   4.43  \n",
       "8       2018-04-01T00:07:18.801040+00:00         P2   4.50  \n",
       "12      2018-04-01T00:09:55.795526+00:00         P2   4.87  \n",
       "18      2018-04-01T00:12:25.801304+00:00         P2   4.10  \n",
       "...                                  ...        ...    ...  \n",
       "165132  2018-04-30T23:47:51.800680+00:00         P2   1.37  \n",
       "165136  2018-04-30T23:50:23.449791+00:00         P2   1.63  \n",
       "165142  2018-04-30T23:52:54.771506+00:00         P2   1.23  \n",
       "165146  2018-04-30T23:55:26.035408+00:00         P2   1.50  \n",
       "165152  2018-04-30T23:57:58.207062+00:00         P2   1.50  \n",
       "\n",
       "[40743 rows x 8 columns]"
      ]
     },
     "execution_count": 25,
     "metadata": {},
     "output_type": "execute_result"
    }
   ],
   "source": [
    "df[df[\"value_type\"] == \"P2\"]"
   ]
  },
  {
   "cell_type": "code",
   "execution_count": 23,
   "id": "cae3e366-22b8-44f8-9d93-6007c5933ae5",
   "metadata": {},
   "outputs": [
    {
     "name": "stderr",
     "output_type": "stream",
     "text": [
      "C:\\Users\\Balogun Oladimeji\\AppData\\Local\\Programs\\Python\\Python311\\Lib\\site-packages\\pandas\\core\\dtypes\\common.py:1636: DeprecationWarning: Converting `np.inexact` or `np.floating` to a dtype is deprecated. The current result is `float64` which is not strictly correct.\n",
      "  npdtype = np.dtype(dtype)\n",
      "C:\\Users\\Balogun Oladimeji\\AppData\\Local\\Programs\\Python\\Python311\\Lib\\site-packages\\pandas\\core\\dtypes\\common.py:1636: DeprecationWarning: Converting `np.inexact` or `np.floating` to a dtype is deprecated. The current result is `float64` which is not strictly correct.\n",
      "  npdtype = np.dtype(dtype)\n",
      "C:\\Users\\Balogun Oladimeji\\AppData\\Local\\Programs\\Python\\Python311\\Lib\\site-packages\\pandas\\core\\dtypes\\common.py:1636: DeprecationWarning: Converting `np.inexact` or `np.floating` to a dtype is deprecated. The current result is `float64` which is not strictly correct.\n",
      "  npdtype = np.dtype(dtype)\n",
      "C:\\Users\\Balogun Oladimeji\\AppData\\Local\\Programs\\Python\\Python311\\Lib\\site-packages\\pandas\\core\\dtypes\\common.py:1636: DeprecationWarning: Converting `np.inexact` or `np.floating` to a dtype is deprecated. The current result is `float64` which is not strictly correct.\n",
      "  npdtype = np.dtype(dtype)\n",
      "C:\\Users\\Balogun Oladimeji\\AppData\\Local\\Programs\\Python\\Python311\\Lib\\site-packages\\pandas\\core\\dtypes\\common.py:1636: DeprecationWarning: Converting `np.inexact` or `np.floating` to a dtype is deprecated. The current result is `float64` which is not strictly correct.\n",
      "  npdtype = np.dtype(dtype)\n"
     ]
    }
   ],
   "source": [
    "\n",
    "df[[\"value\", \"sensor_id\", \"location\", \"lat\", \"lon\"]] = df[[\"value\", \"sensor_id\", \"location\", \"lat\", \"lon\"]].astype(np.number)"
   ]
  },
  {
   "cell_type": "code",
   "execution_count": 33,
   "id": "b3e22e0c-c817-47db-9ef4-afb0591a7899",
   "metadata": {},
   "outputs": [
    {
     "name": "stderr",
     "output_type": "stream",
     "text": [
      "C:\\Users\\Balogun Oladimeji\\AppData\\Local\\Temp\\ipykernel_16052\\558916320.py:3: FutureWarning: \n",
      "\n",
      "Passing `palette` without assigning `hue` is deprecated and will be removed in v0.14.0. Assign the `x` variable to `hue` and set `legend=False` for the same effect.\n",
      "\n",
      "  sns.barplot(data=sensor_id_group[\"value\"].mean(), palette=[\"m\", \"g\"]);\n",
      "C:\\Users\\Balogun Oladimeji\\AppData\\Local\\Temp\\ipykernel_16052\\558916320.py:3: UserWarning: \n",
      "The palette list has fewer values (2) than needed (8) and will cycle, which may produce an uninterpretable plot.\n",
      "  sns.barplot(data=sensor_id_group[\"value\"].mean(), palette=[\"m\", \"g\"]);\n"
     ]
    },
    {
     "data": {
      "image/png": "[encoded data removed]",
      "text/plain": [
       "<Figure size 640x480 with 1 Axes>"
      ]
     },
     "metadata": {},
     "output_type": "display_data"
    }
   ],
   "source": [
    "# let\"s do some visualisations \n",
    "sensor_id_group = df.groupby(\"sensor_id\")\n",
    "sns.barplot(data=sensor_id_group[\"value\"].mean(), palette=[\"m\", \"g\"]);"
   ]
  },
  {
   "cell_type": "code",
   "execution_count": 47,
   "id": "e6a0b820-9f5e-416a-a51f-61076ec2cd64",
   "metadata": {},
   "outputs": [
    {
     "data": {
      "image/png": "[encoded data removed]",
      "text/plain": [
       "<Figure size 640x480 with 6 Axes>"
      ]
     },
     "metadata": {},
     "output_type": "display_data"
    }
   ],
   "source": [
    "# investigate the numeric columns \n",
    "numeric_cols = df.select_dtypes(np.number).columns.tolist()\n",
    "len(numeric_cols)\n",
    "\n",
    "fig, axs = plt.subplots(2, 3)\n",
    "\n",
    "for i in range(1, len(numeric_cols)): \n",
    "    axs = plt.subplot(2, 3, i)\n",
    "    axs.scatter(x=df[numeric_cols[i]], y=df[\"value\"])\n",
    "    axs.set_title(f\"{numeric_cols[i]} against price\")"
   ]
  },
  {
   "cell_type": "code",
   "execution_count": 10,
   "id": "edf2c9f3-8a34-4b37-80e3-ac93df98e187",
   "metadata": {},
   "outputs": [],
   "source": [
    "import pandas as pd\n",
    "\n",
    "def wrangle(filename):\n",
    "    # Load the data\n",
    "    df = pd.read_csv(filename, sep=';')\n",
    "    \n",
    "    # Drop unnecessary columns\n",
    "    # df.drop(columns=[\"sensor_id\", \"sensor_type\", \"location\", \"lat\", \"lon\", \"value_type\", \"value\"], inplace=True)\n",
    "    \n",
    "    # Convert the 'timestamp' column to datetime format and set it as the index\n",
    "    df['timestamp'] = pd.to_datetime(df['timestamp'])\n",
    "    df.set_index(\"timestamp\", inplace=True)\n",
    "    \n",
    "    # Localize and convert the index timezone\n",
    "    # df.index = df.index.tz_localize(\"UTC\").tz_convert(\"Africa/Nairobi\")\n",
    "\n",
    "    df = df[df[\"value_type\"] == \"P2\"]\n",
    "    df = df.drop(columns=[\"sensor_type\"])\n",
    "    \n",
    "    return df\n",
    "\n",
    "# Usage\n",
    "df = wrangle(\"april_2018_sensor_data_archive.csv\")\n"
   ]
  },
  {
   "cell_type": "code",
   "execution_count": 16,
   "id": "720f87bb-e704-4919-b4c2-9363d372538e",
   "metadata": {},
   "outputs": [
    {
     "data": {
      "text/plain": [
       "sensor_id\n",
       "3     20.589962\n",
       "27    13.578345\n",
       "40     3.980814\n",
       "43     3.952394\n",
       "Name: value, dtype: float64"
      ]
     },
     "execution_count": 16,
     "metadata": {},
     "output_type": "execute_result"
    }
   ],
   "source": [
    "df.groupby(\"sensor_id\")[\"value\"].mean()"
   ]
  },
  {
   "cell_type": "code",
   "execution_count": 9,
   "id": "49b7e663-b26e-4b2d-8a9b-48c738a170f5",
   "metadata": {},
   "outputs": [
    {
     "data": {
      "text/plain": [
       "1"
      ]
     },
     "execution_count": 9,
     "metadata": {},
     "output_type": "execute_result"
    }
   ],
   "source": [
    "df[\"sensor_type\"].nunique()"
   ]
  },
  {
   "cell_type": "code",
   "execution_count": 23,
   "id": "5cace1c9-29b1-471f-8933-4466262b7b4d",
   "metadata": {},
   "outputs": [],
   "source": [
    "train, test = train_test_split(df, test_size=0.3, random_state=42)"
   ]
  },
  {
   "cell_type": "code",
   "execution_count": 27,
   "id": "dce3cd7b-d079-48f8-a601-d8db1b8cdf1c",
   "metadata": {},
   "outputs": [],
   "source": [
    "features = df.columns.tolist()[:-2]\n",
    "target = \"value\""
   ]
  },
  {
   "cell_type": "code",
   "execution_count": 29,
   "id": "cadc30a1-5b74-4b4f-bff8-d484a10e90c5",
   "metadata": {},
   "outputs": [],
   "source": [
    "# create the training test set and test set\n",
    "X_train = train[features]\n",
    "y_train = train[target]\n",
    "\n",
    "X_test = test[features]\n",
    "y_test = test[target]"
   ]
  },
  {
   "cell_type": "code",
   "execution_count": 32,
   "id": "9231824f-6eca-498b-a28a-b3cb8ce5c230",
   "metadata": {},
   "outputs": [],
   "source": [
    "# create the dumb model\n",
    "y_train_mean = y_train.mean()\n",
    "y_pred_baseline = [y_train_mean] * len(y_train)\n",
    "\n",
    "# check the accuracy of the dumb model against the dataset \n",
    "baseline_acc = mean_absolute_error(y_train, y_pred_baseline)"
   ]
  },
  {
   "cell_type": "code",
   "execution_count": 33,
   "id": "16136a00-f997-48e6-a451-aede27e9bcf1",
   "metadata": {},
   "outputs": [
    {
     "data": {
      "text/plain": [
       "9.684032825762388"
      ]
     },
     "execution_count": 33,
     "metadata": {},
     "output_type": "execute_result"
    }
   ],
   "source": [
    "baseline_acc"
   ]
  },
  {
   "cell_type": "code",
   "execution_count": 55,
   "id": "b401ac13-3819-4999-bbbb-e701941ac501",
   "metadata": {},
   "outputs": [],
   "source": [
    "model = make_pipeline(\n",
    "    OneHotEncoder(), \n",
    "    MaxAbsScaler(),\n",
    "    TruncatedSVD(), \n",
    "    Ridge()\n",
    ")"
   ]
  },
  {
   "cell_type": "code",
   "execution_count": 56,
   "id": "3ba99734-0630-4133-8c75-533b752825e8",
   "metadata": {},
   "outputs": [
    {
     "data": {
      "text/html": [
       "<style>#sk-container-id-3 {color: black;}#sk-container-id-3 pre{padding: 0;}#sk-container-id-3 div.sk-toggleable {background-color: white;}#sk-container-id-3 label.sk-toggleable__label {cursor: pointer;display: block;width: 100%;margin-bottom: 0;padding: 0.3em;box-sizing: border-box;text-align: center;}#sk-container-id-3 label.sk-toggleable__label-arrow:before {content: \"▸\";float: left;margin-right: 0.25em;color: #696969;}#sk-container-id-3 label.sk-toggleable__label-arrow:hover:before {color: black;}#sk-container-id-3 div.sk-estimator:hover label.sk-toggleable__label-arrow:before {color: black;}#sk-container-id-3 div.sk-toggleable__content {max-height: 0;max-width: 0;overflow: hidden;text-align: left;background-color: #f0f8ff;}#sk-container-id-3 div.sk-toggleable__content pre {margin: 0.2em;color: black;border-radius: 0.25em;background-color: #f0f8ff;}#sk-container-id-3 input.sk-toggleable__control:checked~div.sk-toggleable__content {max-height: 200px;max-width: 100%;overflow: auto;}#sk-container-id-3 input.sk-toggleable__control:checked~label.sk-toggleable__label-arrow:before {content: \"▾\";}#sk-container-id-3 div.sk-estimator input.sk-toggleable__control:checked~label.sk-toggleable__label {background-color: #d4ebff;}#sk-container-id-3 div.sk-label input.sk-toggleable__control:checked~label.sk-toggleable__label {background-color: #d4ebff;}#sk-container-id-3 input.sk-hidden--visually {border: 0;clip: rect(1px 1px 1px 1px);clip: rect(1px, 1px, 1px, 1px);height: 1px;margin: -1px;overflow: hidden;padding: 0;position: absolute;width: 1px;}#sk-container-id-3 div.sk-estimator {font-family: monospace;background-color: #f0f8ff;border: 1px dotted black;border-radius: 0.25em;box-sizing: border-box;margin-bottom: 0.5em;}#sk-container-id-3 div.sk-estimator:hover {background-color: #d4ebff;}#sk-container-id-3 div.sk-parallel-item::after {content: \"\";width: 100%;border-bottom: 1px solid gray;flex-grow: 1;}#sk-container-id-3 div.sk-label:hover label.sk-toggleable__label {background-color: #d4ebff;}#sk-container-id-3 div.sk-serial::before {content: \"\";position: absolute;border-left: 1px solid gray;box-sizing: border-box;top: 0;bottom: 0;left: 50%;z-index: 0;}#sk-container-id-3 div.sk-serial {display: flex;flex-direction: column;align-items: center;background-color: white;padding-right: 0.2em;padding-left: 0.2em;position: relative;}#sk-container-id-3 div.sk-item {position: relative;z-index: 1;}#sk-container-id-3 div.sk-parallel {display: flex;align-items: stretch;justify-content: center;background-color: white;position: relative;}#sk-container-id-3 div.sk-item::before, #sk-container-id-3 div.sk-parallel-item::before {content: \"\";position: absolute;border-left: 1px solid gray;box-sizing: border-box;top: 0;bottom: 0;left: 50%;z-index: -1;}#sk-container-id-3 div.sk-parallel-item {display: flex;flex-direction: column;z-index: 1;position: relative;background-color: white;}#sk-container-id-3 div.sk-parallel-item:first-child::after {align-self: flex-end;width: 50%;}#sk-container-id-3 div.sk-parallel-item:last-child::after {align-self: flex-start;width: 50%;}#sk-container-id-3 div.sk-parallel-item:only-child::after {width: 0;}#sk-container-id-3 div.sk-dashed-wrapped {border: 1px dashed gray;margin: 0 0.4em 0.5em 0.4em;box-sizing: border-box;padding-bottom: 0.4em;background-color: white;}#sk-container-id-3 div.sk-label label {font-family: monospace;font-weight: bold;display: inline-block;line-height: 1.2em;}#sk-container-id-3 div.sk-label-container {text-align: center;}#sk-container-id-3 div.sk-container {/* jupyter's `normalize.less` sets `[hidden] { display: none; }` but bootstrap.min.css set `[hidden] { display: none !important; }` so we also need the `!important` here to be able to override the default hidden behavior on the sphinx rendered scikit-learn.org. See: https://github.com/scikit-learn/scikit-learn/issues/21755 */display: inline-block !important;position: relative;}#sk-container-id-3 div.sk-text-repr-fallback {display: none;}</style><div id=\"sk-container-id-3\" class=\"sk-top-container\"><div class=\"sk-text-repr-fallback\"><pre>Pipeline(steps=[(&#x27;onehotencoder&#x27;, OneHotEncoder()),\n",
       "                (&#x27;maxabsscaler&#x27;, MaxAbsScaler()),\n",
       "                (&#x27;truncatedsvd&#x27;, TruncatedSVD()), (&#x27;ridge&#x27;, Ridge())])</pre><b>In a Jupyter environment, please rerun this cell to show the HTML representation or trust the notebook. <br />On GitHub, the HTML representation is unable to render, please try loading this page with nbviewer.org.</b></div><div class=\"sk-container\" hidden><div class=\"sk-item sk-dashed-wrapped\"><div class=\"sk-label-container\"><div class=\"sk-label sk-toggleable\"><input class=\"sk-toggleable__control sk-hidden--visually\" id=\"sk-estimator-id-10\" type=\"checkbox\" ><label for=\"sk-estimator-id-10\" class=\"sk-toggleable__label sk-toggleable__label-arrow\">Pipeline</label><div class=\"sk-toggleable__content\"><pre>Pipeline(steps=[(&#x27;onehotencoder&#x27;, OneHotEncoder()),\n",
       "                (&#x27;maxabsscaler&#x27;, MaxAbsScaler()),\n",
       "                (&#x27;truncatedsvd&#x27;, TruncatedSVD()), (&#x27;ridge&#x27;, Ridge())])</pre></div></div></div><div class=\"sk-serial\"><div class=\"sk-item\"><div class=\"sk-estimator sk-toggleable\"><input class=\"sk-toggleable__control sk-hidden--visually\" id=\"sk-estimator-id-11\" type=\"checkbox\" ><label for=\"sk-estimator-id-11\" class=\"sk-toggleable__label sk-toggleable__label-arrow\">OneHotEncoder</label><div class=\"sk-toggleable__content\"><pre>OneHotEncoder()</pre></div></div></div><div class=\"sk-item\"><div class=\"sk-estimator sk-toggleable\"><input class=\"sk-toggleable__control sk-hidden--visually\" id=\"sk-estimator-id-12\" type=\"checkbox\" ><label for=\"sk-estimator-id-12\" class=\"sk-toggleable__label sk-toggleable__label-arrow\">MaxAbsScaler</label><div class=\"sk-toggleable__content\"><pre>MaxAbsScaler()</pre></div></div></div><div class=\"sk-item\"><div class=\"sk-estimator sk-toggleable\"><input class=\"sk-toggleable__control sk-hidden--visually\" id=\"sk-estimator-id-13\" type=\"checkbox\" ><label for=\"sk-estimator-id-13\" class=\"sk-toggleable__label sk-toggleable__label-arrow\">TruncatedSVD</label><div class=\"sk-toggleable__content\"><pre>TruncatedSVD()</pre></div></div></div><div class=\"sk-item\"><div class=\"sk-estimator sk-toggleable\"><input class=\"sk-toggleable__control sk-hidden--visually\" id=\"sk-estimator-id-14\" type=\"checkbox\" ><label for=\"sk-estimator-id-14\" class=\"sk-toggleable__label sk-toggleable__label-arrow\">Ridge</label><div class=\"sk-toggleable__content\"><pre>Ridge()</pre></div></div></div></div></div></div></div>"
      ],
      "text/plain": [
       "Pipeline(steps=[('onehotencoder', OneHotEncoder()),\n",
       "                ('maxabsscaler', MaxAbsScaler()),\n",
       "                ('truncatedsvd', TruncatedSVD()), ('ridge', Ridge())])"
      ]
     },
     "execution_count": 56,
     "metadata": {},
     "output_type": "execute_result"
    }
   ],
   "source": [
    "model.fit(X_train, y_train)"
   ]
  },
  {
   "cell_type": "code",
   "execution_count": 58,
   "id": "d7425869-634d-467f-9727-dd67dabb975d",
   "metadata": {},
   "outputs": [
    {
     "data": {
      "text/plain": [
       "array([11.296753  ,  3.99251408, 11.296753  , ..., 20.63352459,\n",
       "       11.296753  ,  3.99251408])"
      ]
     },
     "execution_count": 58,
     "metadata": {},
     "output_type": "execute_result"
    }
   ],
   "source": [
    "preds = model.predict(X_train)\n",
    "preds"
   ]
  },
  {
   "cell_type": "code",
   "execution_count": 59,
   "id": "e5e26ab8-153e-41e1-87b5-98741651ae42",
   "metadata": {},
   "outputs": [
    {
     "data": {
      "text/plain": [
       "7.175112612130069"
      ]
     },
     "execution_count": 59,
     "metadata": {},
     "output_type": "execute_result"
    }
   ],
   "source": [
    "preds_accuracy = mean_absolute_error(preds, y_train)\n",
    "preds_accuracy"
   ]
  },
  {
   "cell_type": "code",
   "execution_count": 62,
   "id": "a1d57859-9bcd-459a-a7c2-67a5181b525b",
   "metadata": {},
   "outputs": [
    {
     "name": "stderr",
     "output_type": "stream",
     "text": [
      "[Parallel(n_jobs=-1)]: Using backend LokyBackend with 4 concurrent workers.\n",
      "[Parallel(n_jobs=-1)]: Done   5 out of   5 | elapsed:    3.9s finished\n"
     ]
    }
   ],
   "source": [
    "# cross validation \n",
    "scores = cross_val_score(estimator=model, X=X_train, y=y_train, cv=5, scoring='r2', n_jobs=-1, verbose=1)"
   ]
  },
  {
   "cell_type": "code",
   "execution_count": 63,
   "id": "e2fa6847-641e-4cb7-8906-26b7c62dd295",
   "metadata": {},
   "outputs": [
    {
     "data": {
      "text/plain": [
       "array([0.0771745 , 0.09030278, 0.111151  , 0.07511377, 0.10861608])"
      ]
     },
     "execution_count": 63,
     "metadata": {},
     "output_type": "execute_result"
    }
   ],
   "source": [
    "scores"
   ]
  },
  {
   "cell_type": "code",
   "execution_count": 68,
   "id": "936fbae4-3739-488b-bd20-8ad0d1fd0e5b",
   "metadata": {},
   "outputs": [
    {
     "data": {
      "text/plain": [
       "0.09071259876280546"
      ]
     },
     "execution_count": 68,
     "metadata": {},
     "output_type": "execute_result"
    }
   ],
   "source": [
    "model.score(X=X_train, y=y_train)"
   ]
  },
  {
   "cell_type": "code",
   "execution_count": 70,
   "id": "4e12f9cd-41ca-496b-8943-c4dd578affab",
   "metadata": {},
   "outputs": [
    {
     "ename": "ValueError",
     "evalue": "continuous is not supported",
     "output_type": "error",
     "traceback": [
      "\u001b[1;31m---------------------------------------------------------------------------\u001b[0m",
      "\u001b[1;31mValueError\u001b[0m                                Traceback (most recent call last)",
      "Cell \u001b[1;32mIn[70], line 2\u001b[0m\n\u001b[0;32m      1\u001b[0m \u001b[38;5;66;03m# performance of the model on the test set \u001b[39;00m\n\u001b[1;32m----> 2\u001b[0m \u001b[43maccuracy_score\u001b[49m\u001b[43m(\u001b[49m\u001b[43mpreds\u001b[49m\u001b[43m,\u001b[49m\u001b[43m \u001b[49m\u001b[43my_train\u001b[49m\u001b[43m)\u001b[49m\n",
      "File \u001b[1;32m~\\AppData\\Local\\Programs\\Python\\Python311\\Lib\\site-packages\\sklearn\\utils\\_param_validation.py:214\u001b[0m, in \u001b[0;36mvalidate_params.<locals>.decorator.<locals>.wrapper\u001b[1;34m(*args, **kwargs)\u001b[0m\n\u001b[0;32m    208\u001b[0m \u001b[38;5;28;01mtry\u001b[39;00m:\n\u001b[0;32m    209\u001b[0m     \u001b[38;5;28;01mwith\u001b[39;00m config_context(\n\u001b[0;32m    210\u001b[0m         skip_parameter_validation\u001b[38;5;241m=\u001b[39m(\n\u001b[0;32m    211\u001b[0m             prefer_skip_nested_validation \u001b[38;5;129;01mor\u001b[39;00m global_skip_validation\n\u001b[0;32m    212\u001b[0m         )\n\u001b[0;32m    213\u001b[0m     ):\n\u001b[1;32m--> 214\u001b[0m         \u001b[38;5;28;01mreturn\u001b[39;00m \u001b[43mfunc\u001b[49m\u001b[43m(\u001b[49m\u001b[38;5;241;43m*\u001b[39;49m\u001b[43margs\u001b[49m\u001b[43m,\u001b[49m\u001b[43m \u001b[49m\u001b[38;5;241;43m*\u001b[39;49m\u001b[38;5;241;43m*\u001b[39;49m\u001b[43mkwargs\u001b[49m\u001b[43m)\u001b[49m\n\u001b[0;32m    215\u001b[0m \u001b[38;5;28;01mexcept\u001b[39;00m InvalidParameterError \u001b[38;5;28;01mas\u001b[39;00m e:\n\u001b[0;32m    216\u001b[0m     \u001b[38;5;66;03m# When the function is just a wrapper around an estimator, we allow\u001b[39;00m\n\u001b[0;32m    217\u001b[0m     \u001b[38;5;66;03m# the function to delegate validation to the estimator, but we replace\u001b[39;00m\n\u001b[0;32m    218\u001b[0m     \u001b[38;5;66;03m# the name of the estimator by the name of the function in the error\u001b[39;00m\n\u001b[0;32m    219\u001b[0m     \u001b[38;5;66;03m# message to avoid confusion.\u001b[39;00m\n\u001b[0;32m    220\u001b[0m     msg \u001b[38;5;241m=\u001b[39m re\u001b[38;5;241m.\u001b[39msub(\n\u001b[0;32m    221\u001b[0m         \u001b[38;5;124mr\u001b[39m\u001b[38;5;124m\"\u001b[39m\u001b[38;5;124mparameter of \u001b[39m\u001b[38;5;124m\\\u001b[39m\u001b[38;5;124mw+ must be\u001b[39m\u001b[38;5;124m\"\u001b[39m,\n\u001b[0;32m    222\u001b[0m         \u001b[38;5;124mf\u001b[39m\u001b[38;5;124m\"\u001b[39m\u001b[38;5;124mparameter of \u001b[39m\u001b[38;5;132;01m{\u001b[39;00mfunc\u001b[38;5;241m.\u001b[39m\u001b[38;5;18m__qualname__\u001b[39m\u001b[38;5;132;01m}\u001b[39;00m\u001b[38;5;124m must be\u001b[39m\u001b[38;5;124m\"\u001b[39m,\n\u001b[0;32m    223\u001b[0m         \u001b[38;5;28mstr\u001b[39m(e),\n\u001b[0;32m    224\u001b[0m     )\n",
      "File \u001b[1;32m~\\AppData\\Local\\Programs\\Python\\Python311\\Lib\\site-packages\\sklearn\\metrics\\_classification.py:220\u001b[0m, in \u001b[0;36maccuracy_score\u001b[1;34m(y_true, y_pred, normalize, sample_weight)\u001b[0m\n\u001b[0;32m    154\u001b[0m \u001b[38;5;250m\u001b[39m\u001b[38;5;124;03m\"\"\"Accuracy classification score.\u001b[39;00m\n\u001b[0;32m    155\u001b[0m \n\u001b[0;32m    156\u001b[0m \u001b[38;5;124;03mIn multilabel classification, this function computes subset accuracy:\u001b[39;00m\n\u001b[1;32m   (...)\u001b[0m\n\u001b[0;32m    216\u001b[0m \u001b[38;5;124;03m0.5\u001b[39;00m\n\u001b[0;32m    217\u001b[0m \u001b[38;5;124;03m\"\"\"\u001b[39;00m\n\u001b[0;32m    219\u001b[0m \u001b[38;5;66;03m# Compute accuracy for each possible representation\u001b[39;00m\n\u001b[1;32m--> 220\u001b[0m y_type, y_true, y_pred \u001b[38;5;241m=\u001b[39m \u001b[43m_check_targets\u001b[49m\u001b[43m(\u001b[49m\u001b[43my_true\u001b[49m\u001b[43m,\u001b[49m\u001b[43m \u001b[49m\u001b[43my_pred\u001b[49m\u001b[43m)\u001b[49m\n\u001b[0;32m    221\u001b[0m check_consistent_length(y_true, y_pred, sample_weight)\n\u001b[0;32m    222\u001b[0m \u001b[38;5;28;01mif\u001b[39;00m y_type\u001b[38;5;241m.\u001b[39mstartswith(\u001b[38;5;124m\"\u001b[39m\u001b[38;5;124mmultilabel\u001b[39m\u001b[38;5;124m\"\u001b[39m):\n",
      "File \u001b[1;32m~\\AppData\\Local\\Programs\\Python\\Python311\\Lib\\site-packages\\sklearn\\metrics\\_classification.py:104\u001b[0m, in \u001b[0;36m_check_targets\u001b[1;34m(y_true, y_pred)\u001b[0m\n\u001b[0;32m    102\u001b[0m \u001b[38;5;66;03m# No metrics support \"multiclass-multioutput\" format\u001b[39;00m\n\u001b[0;32m    103\u001b[0m \u001b[38;5;28;01mif\u001b[39;00m y_type \u001b[38;5;129;01mnot\u001b[39;00m \u001b[38;5;129;01min\u001b[39;00m [\u001b[38;5;124m\"\u001b[39m\u001b[38;5;124mbinary\u001b[39m\u001b[38;5;124m\"\u001b[39m, \u001b[38;5;124m\"\u001b[39m\u001b[38;5;124mmulticlass\u001b[39m\u001b[38;5;124m\"\u001b[39m, \u001b[38;5;124m\"\u001b[39m\u001b[38;5;124mmultilabel-indicator\u001b[39m\u001b[38;5;124m\"\u001b[39m]:\n\u001b[1;32m--> 104\u001b[0m     \u001b[38;5;28;01mraise\u001b[39;00m \u001b[38;5;167;01mValueError\u001b[39;00m(\u001b[38;5;124m\"\u001b[39m\u001b[38;5;132;01m{0}\u001b[39;00m\u001b[38;5;124m is not supported\u001b[39m\u001b[38;5;124m\"\u001b[39m\u001b[38;5;241m.\u001b[39mformat(y_type))\n\u001b[0;32m    106\u001b[0m \u001b[38;5;28;01mif\u001b[39;00m y_type \u001b[38;5;129;01min\u001b[39;00m [\u001b[38;5;124m\"\u001b[39m\u001b[38;5;124mbinary\u001b[39m\u001b[38;5;124m\"\u001b[39m, \u001b[38;5;124m\"\u001b[39m\u001b[38;5;124mmulticlass\u001b[39m\u001b[38;5;124m\"\u001b[39m]:\n\u001b[0;32m    107\u001b[0m     y_true \u001b[38;5;241m=\u001b[39m column_or_1d(y_true)\n",
      "\u001b[1;31mValueError\u001b[0m: continuous is not supported"
     ]
    }
   ],
   "source": [
    "# performance of the model on the test set \n"
   ]
  }
 ],
 "metadata": {
  "kernelspec": {
   "display_name": "Python 3 (ipykernel)",
   "language": "python",
   "name": "python3"
  },
  "language_info": {
   "codemirror_mode": {
    "name": "ipython",
    "version": 3
   },
   "file_extension": ".py",
   "mimetype": "text/x-python",
   "name": "python",
   "nbconvert_exporter": "python",
   "pygments_lexer": "ipython3",
   "version": "3.11.5"
  }
 },
 "nbformat": 4,
 "nbformat_minor": 5
}
